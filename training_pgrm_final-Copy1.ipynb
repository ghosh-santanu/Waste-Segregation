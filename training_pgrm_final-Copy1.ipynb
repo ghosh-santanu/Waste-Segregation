{
 "cells": [
  {
   "cell_type": "code",
   "execution_count": null,
   "metadata": {},
   "outputs": [],
   "source": [
    "import tensorflow as tf\n",
    "from keras.preprocessing.image import ImageDataGenerator\n",
    "from keras.optimizers import Adam\n",
    "from keras.preprocessing.image import img_to_array\n",
    "import numpy as np\n",
    "import argparse\n",
    "import random\n",
    "import pickle\n",
    "import cv2\n",
    "import os\n",
    "import glob\n",
    "import os.path as path\n",
    "from keras.models import Sequential\n",
    "from keras.layers import Conv2D\n",
    "from keras.layers import MaxPooling2D\n",
    "from keras.layers import Flatten\n",
    "from keras.layers import Dense\n",
    "import cv2\n",
    "import os\n",
    "import glob\n",
    "from keras.optimizers import SGD\n",
    "from keras.callbacks import LearningRateScheduler, ModelCheckpoint\n",
    "from keras.models import Sequential\n",
    "from keras.layers.core import Dense, Dropout, Activation, Flatten\n",
    "from keras.layers.convolutional import Conv2D\n",
    "from keras.layers.pooling import MaxPooling2D\n",
    "from keras.optimizers import SGD\n",
    "from keras import backend as K\n",
    "K.set_image_data_format('channels_first')\n",
    "from keras.models import load_model \n"
   ]
  },
  {
   "cell_type": "code",
   "execution_count": null,
   "metadata": {},
   "outputs": [],
   "source": [
    "img_dir = \"west2/\" # Enter Directory of all images \n",
    "data_path = os.path.join(img_dir,'*jpg')\n",
    "files = glob.glob(data_path)\n",
    "data = []\n",
    "labels = []\n",
    "#data = np.array(data, dtype=\"float\") / 255.0\n",
    "#n_images = images.shape[0]\n",
    "i=0\n",
    "for f1 in files:\n",
    "    print(f1)\n",
    "    img = cv2.imread(f1)\n",
    "    filename = path.basename(f1[6])[0]\n",
    "    labels.append(int(filename))\n",
    "    #gray_image = cv2.cvtColor(img, cv2.COLOR_BGR2GRAY)\n",
    "    #img=cv2.cvtColor(img, cv2.COLOR_BGR2GRAY)\n",
    "    #images = cv2.resize(img,(32,32))\n",
    "    images = np.rollaxis(img, -1)\n",
    "    data.append(images)\n",
    "    i=i+1\n",
    "data = np.array(data)\n",
    "#data=data/255\n",
    "#print(data)\n",
    "#print(data.shape)\n",
    "labels=np.array(labels)\n",
    "NUM_CLASSES = 3\n",
    "X=data\n",
    "print(labels)\n",
    "Y = np.eye(NUM_CLASSES, dtype='uint8')[labels]\n",
    "print(Y)"
   ]
  },
  {
   "cell_type": "code",
   "execution_count": null,
   "metadata": {},
   "outputs": [],
   "source": [
    "def cnn_model():\n",
    "    model = Sequential()\n",
    "\n",
    "    model.add(Conv2D(32, (3, 3), padding='same',\n",
    "                     input_shape=(3,32,32),\n",
    "                     activation='relu'))\n",
    "    model.add(Conv2D(32, (3, 3), activation='relu'))\n",
    "    model.add(MaxPooling2D(pool_size=(2, 2)))\n",
    "    model.add(Dropout(0.25))\n",
    "\n",
    "    model.add(Conv2D(64, (3, 3), padding='same',\n",
    "                     activation='relu'))\n",
    "    model.add(Conv2D(64, (3, 3), activation='relu'))\n",
    "    model.add(MaxPooling2D(pool_size=(2, 2)))\n",
    "    model.add(Dropout(0.25))\n",
    "\n",
    "    model.add(Conv2D(128, (3, 3), padding='same',\n",
    "                     activation='relu'))\n",
    "    model.add(Conv2D(128, (3, 3), activation='relu'))\n",
    "    model.add(MaxPooling2D(pool_size=(2, 2)))\n",
    "    model.add(Dropout(0.25))\n",
    "\n",
    "    model.add(Flatten())\n",
    "    model.add(Dense(512, activation='relu'))\n",
    "    model.add(Dropout(0.5))\n",
    "    model.add(Dense(NUM_CLASSES, activation='softmax'))\n",
    "    \n",
    "    return model\n",
    "model = cnn_model()\n",
    "\n",
    "model.compile(optimizer='rmsprop', loss='categorical_crossentropy', metrics=['accuracy'])\n",
    " \n",
    "\n"
   ]
  },
  {
   "cell_type": "code",
   "execution_count": null,
   "metadata": {},
   "outputs": [],
   "source": [
    "batch_size =256\n",
    "epochs = 50\n",
    "model.fit(X, Y, \n",
    "          batch_size=batch_size, \n",
    "          epochs=epochs, verbose=1,\n",
    "          validation_split=0.2)\n",
    "model.save('testnew_mat.h5')\n",
    "\n",
    "\n",
    "#model.evaluate(X,Y)"
   ]
  },
  {
   "cell_type": "code",
   "execution_count": null,
   "metadata": {},
   "outputs": [],
   "source": [
    "model=load_model('test_mat.h5')\n",
    "mat=[]\n",
    "mat=random.sample(range(1, 42), 15)\n",
    "#print(mat)"
   ]
  },
  {
   "cell_type": "code",
   "execution_count": null,
   "metadata": {},
   "outputs": [],
   "source": [
    "test_mat=[]\n",
    "class1=np.array([0,1])\n",
    "potato=np.array([1,0])\n",
    "for i in range(0,len(mat)):\n",
    "    p=mat[i]\n",
    "    img = cv2.imread('test_images/'+str(p)+'.jpg')\n",
    "    #img = cv2.resize(img,(32,32))\n",
    "    img_ = np.asarray(img)\n",
    "    img_ = np.rollaxis(img_,-1)\n",
    "    test_mat.append(img_)\n",
    "test_mat=np.array(test_mat)\n",
    "#print(test_mat.shape)\n",
    "pred_= model.predict(test_mat,verbose=1)\n",
    "#print(pred_)\n",
    "prob=[]\n",
    "cls=[]\n",
    "for i in range(0,len(mat)):\n",
    "    max_val=max(pred_[i])\n",
    "    prob.append('%.4f' % max(pred_[i]))\n",
    "    for j in range(0,3):\n",
    "        if pred_[i][j]==max_val:\n",
    "            cls.append('class '+str(j))\n",
    "#print(pred_[3])\n",
    "pred_[pred_ > .5] = 1\n",
    "pred_[pred_<0.5]=0\n",
    "#print(pred_)\n",
    "print(\"image number\")\n",
    "print(mat)\n",
    "print(prob)\n",
    "print(cls)\n"
   ]
  },
  {
   "cell_type": "code",
   "execution_count": null,
   "metadata": {},
   "outputs": [],
   "source": [
    "print(mat)"
   ]
  },
  {
   "cell_type": "code",
   "execution_count": null,
   "metadata": {},
   "outputs": [],
   "source": [
    "font=cv2.FONT_HERSHEY_SIMPLEX\n",
    "for j in range(0,len(mat)):\n",
    "    k=pred_[j]\n",
    "    h=mat[j]\n",
    "    img=cv2.imread('test_images/'+str(h)+'.jpg')\n",
    "    #sym=np.array_equal(onion,k)\n",
    "    #print(sym)    \n",
    "   # if sym==True:\n",
    "    image=cv2.putText(img,'cls'+str(cls[j]),(1,10), font, 0.10,(0,0,255),1)\n",
    "    image=cv2.putText(img,'('+str(prob[j])+')',(20,10), font, 0.10,(0,0,255),1)\n",
    "   # else:\n",
    "      #  image=cv2.putText(img,'Potato!!',(50,100), font, 4,(255,0,0),12)\n",
    "       # image=cv2.putText(img,'('+str(prob[j])+')',(550,70), font, 2,(255,0,0),8)\n",
    "\n",
    "    cv2.imwrite('outputs/'+str(j) + '.jpg', image)\n"
   ]
  },
  {
   "cell_type": "code",
   "execution_count": null,
   "metadata": {},
   "outputs": [],
   "source": [
    "print(Y.shape)    \n"
   ]
  },
  {
   "cell_type": "code",
   "execution_count": null,
   "metadata": {},
   "outputs": [],
   "source": []
  }
 ],
 "metadata": {
  "kernelspec": {
   "display_name": "Python 3",
   "language": "python",
   "name": "python3"
  },
  "language_info": {
   "codemirror_mode": {
    "name": "ipython",
    "version": 3
   },
   "file_extension": ".py",
   "mimetype": "text/x-python",
   "name": "python",
   "nbconvert_exporter": "python",
   "pygments_lexer": "ipython3",
   "version": "3.7.1"
  }
 },
 "nbformat": 4,
 "nbformat_minor": 2
}
